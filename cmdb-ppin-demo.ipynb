{
 "cells": [
  {
   "cell_type": "code",
   "execution_count": null,
   "metadata": {
    "deletable": false,
    "edittable": false
   },
   "outputs": [],
   "source": [
    "# Import libraries\n",
    "import pandas as pd\n",
    "import requests, io, json\n",
    "import matplotlib.dates as mdates\n",
    "import matplotlib.pyplot as plt\n",
    "from datetime import datetime\n",
    "from typing import Dict, List"
   ]
  },
  {
   "cell_type": "code",
   "execution_count": null,
   "metadata": {
    "deletable": false,
    "edittable": false
   },
   "outputs": [],
   "source": [
    "# Step 1 - Call the API for available language models\n",
    "import requests\n",
    "request = requests.get(f\"http://cmdb.vectorspacebio.science/api/get_language_models?vxv_wallet_addr=0076e0b8328203a1beb056caf17a05a78929bd74\")\n",
    "language_models = request.json()\n",
    "print(language_models)"
   ]
  },
  {
   "cell_type": "code",
   "execution_count": null,
   "metadata": {
    "deletable": false,
    "edittable": false
   },
   "outputs": [],
   "source": [
    "# Step 2 - Choose a language model - e.g., Biosciences_0001\n",
    "language_model = language_models[0]\n",
    "print(language_model)"
   ]
  },
  {
   "cell_type": "code",
   "execution_count": null,
   "metadata": {
    "deletable": false,
    "edittable": false
   },
   "outputs": [],
   "source": [
    "# Step 3 - Define up to 10 custom features / column labels (up to 100,000 labels upon request)\n",
    "column_labels = [\"mena\", \"opa1\", \"cardiolipin\", \"plant\"]"
   ]
  },
  {
   "cell_type": "code",
   "execution_count": null,
   "metadata": {
    "deletable": false,
    "edittable": false
   },
   "outputs": [],
   "source": [
    "# Step 4 - Optional: Submit a context-dependency - e.g., \"mitochondria\"\n",
    "context_dependency = \"\"\n",
    "# context_dependency = \"mitochondria\""
   ]
  },
  {
   "cell_type": "code",
   "execution_count": null,
   "metadata": {
    "deletable": false,
    "edittable": false
   },
   "outputs": [],
   "source": [
    "# Step 5 - Call the API with the selected parameters and return two matrices\n",
    "# This method may take several minutes to complete depending on the request.\n",
    "import requests\n",
    "import pandas as pd\n",
    "\n",
    "# Specify the types of rows\n",
    "row_types = \"protein_names\"\n",
    "\n",
    "# Add the context dependency component of the query\n",
    "context_dependency_param = \"\"\n",
    "if context_dependency != \"\":\n",
    "    context_dependency_param = f\"&context_dependency={context_dependency}\"\n",
    "\n",
    "# Retrieve the correlation matrix dataset and hidden relationship matrix\n",
    "cmd_request = requests.get(f\"http://cmdb.vectorspacebio.science/api/get_correlation_matrix?vxv_wallet_addr=0076e0b8328203a1beb056caf17a05a78929bd74&language_model={language_model['name']}&row_types={row_types}&column_labels={'%2C%20'.join(column_labels)}{context_dependency_param}\")\n",
    "\n",
    "# Retrieve request and convert to dataframes\n",
    "cm_dataset = pd.DataFrame.from_dict(cmd_request.json())\n",
    "\n",
    "# Preview the correlation matrix dataset\n",
    "cm_dataset.head(10)"
   ]
  },
  {
   "cell_type": "code",
   "execution_count": null,
   "metadata": {},
   "outputs": [],
   "source": [
    "# This block preprocesses the data, outputs it to the terminal, injects it into a ready-to-go html template and saves the output in json format\n",
    "\n",
    "data = []\n",
    "\n",
    "cols = cm_dataset.columns.tolist()\n",
    "rows = cm_dataset.index.tolist()[:100] # For quick tests limit the number of rows\n",
    "\n",
    "for col_n, col in enumerate(cols):\n",
    "    for row_n, row in enumerate(rows):\n",
    "        data.append([col_n, row_n, cm_dataset[col][row]])\n",
    "\n",
    "# Visualize the data\n",
    "print(\"Column labels:\")\n",
    "print(cols)\n",
    "print(\"\\n\")\n",
    "print(\"Rows:\")\n",
    "print(rows)\n",
    "print(\"\\n\")\n",
    "print(\"Correlation scores:\")\n",
    "print(data)\n",
    "\n",
    "# Load the heatmap template\n",
    "with open(\"Heatmap/heatmap-template.html\", \"r\") as file_in:\n",
    "    text = file_in.read()\n",
    "\n",
    "# Replace the placeholder text with the data above\n",
    "text = text.replace(\"vsb_placeholder_column_labels\", str(cols))\n",
    "text = text.replace(\"vsb_placeholder_rows\", str(rows))\n",
    "text = text.replace(\"vsb_placeholder_correlation_scores\", str(data))\n",
    "\n",
    "# Save out the updated heatmap file\n",
    "with open(\"Heatmap/heatmap.html\", \"w\") as file_out:\n",
    "    file_out.write(text)\n",
    "\n",
    "# Save out the JS\n",
    "json_output = {\"cols\": cols, \"rows\": rows, \"correlation_scores\": data}\n",
    "with open(\"Heatmap/output.json\", \"w\") as file_out:\n",
    "    json.dump(json_output, file_out)"
   ]
  },
  {
   "cell_type": "code",
   "execution_count": null,
   "metadata": {
    "deletable": false,
    "edittable": false
   },
   "outputs": [],
   "source": [
    "# Example of heatmap with rows (of proteins) and column labels\n",
    "\n",
    "from IPython.display import Image\n",
    "Image(filename='heatmap-example.jpg') "
   ]
  },
  {
   "cell_type": "code",
   "execution_count": null,
   "metadata": {
    "deletable": false,
    "edittable": false
   },
   "outputs": [],
   "source": [
    "# Step 6 - Create a graph from the correlation matrix dataset\n",
    "# To expand the network of relationships, submit each leaf node to the PPIN (Protein-Protein Interaction Network) API\n",
    "# The number of leaf nodes can be increased by adjusting the value from 5\n",
    "import requests\n",
    "\n",
    "max_depth = 1\n",
    "top_n = 5\n",
    "\n",
    "network_results = []\n",
    "\n",
    "for column_label in list(cm_dataset.keys()):\n",
    "    ppin_request = requests.get(f\"http://ppin.vectorspacebio.science/api/protein_network?vxv_wallet_addr=d1030ededff0f348992fd4d41ae169dae99bf9c0&query={column_label}&branches={top_n}&max_depth={max_depth}\")\n",
    "    result = json.loads(ppin_request.content.decode())\n",
    "    network_results.append(result)"
   ]
  },
  {
   "cell_type": "code",
   "execution_count": null,
   "metadata": {
    "deletable": false,
    "edittable": false
   },
   "outputs": [],
   "source": [
    "# Step 7 - Prepare the data\n",
    "nodes = []\n",
    "hidden_relationships = {}\n",
    "\n",
    "# Add the root node of the graph\n",
    "root_node = \"\"\n",
    "for col in column_labels:\n",
    "    nodes.append([root_node, col])\n",
    "\n",
    "# Add the leaf nodes\n",
    "for result in network_results:\n",
    "    for item in result[\"graph_network\"]:\n",
    "        source, target = item[\"source\"], item[\"target\"]\n",
    "        key = f\"{source}_{target}\".lower()\n",
    "        nodes.append([source, target])\n",
    "        hidden_relationships[key] = item[\"hidden_relationship\"]\n",
    "\n",
    "\n",
    "# Visualize the nodes and hidden relationship data\n",
    "print(\"Nodes:\\n\")\n",
    "print(nodes)\n",
    "print(\"\\n\")\n",
    "\n",
    "print(\"Hidden relationships:\\n\")\n",
    "print(hidden_relationships)\n",
    "\n",
    "# Load the network graph template, replace the placeholders with the data above, save out network_graph.html\n",
    "with open(\"NetworkGraph/network_graph-template.html\", \"r\") as file_in:\n",
    "    text = file_in.read()\n",
    "\n",
    "text = text.replace(\"vsb_placeholder_nodes\", str(nodes))\n",
    "text = text.replace(\"vsb_placeholder_hidden_relationships\", str(hidden_relationships))\n",
    "\n",
    "with open(\"NetworkGraph/network_graph.html\", \"w\") as file_out:\n",
    "    file_out.write(text)\n",
    "\n",
    "# Save out the JS\n",
    "json_output = {\"nodes\": nodes, \"hidden_relationships\": hidden_relationships}\n",
    "with open(\"NetworkGraph/output.json\", \"w\") as file_out:\n",
    "    json.dump(json_output, file_out)"
   ]
  },
  {
   "cell_type": "code",
   "execution_count": null,
   "metadata": {},
   "outputs": [],
   "source": [
    "# Example of heatmap with rows (of proteins) and column labels\n",
    "\n",
    "from IPython.display import Image\n",
    "Image(filename='network-graph-example.jpg') "
   ]
  }
 ],
 "metadata": {
  "celltoolbar": "Edit Metadata",
  "kernelspec": {
   "display_name": "Python 3 (ipykernel)",
   "language": "python",
   "name": "python3"
  },
  "language_info": {
   "codemirror_mode": {
    "name": "ipython",
    "version": 3
   },
   "file_extension": ".py",
   "mimetype": "text/x-python",
   "name": "python",
   "nbconvert_exporter": "python",
   "pygments_lexer": "ipython3",
   "version": "3.8.10 (default, Jun 22 2022, 20:18:18) \n[GCC 9.4.0]"
  },
  "vscode": {
   "interpreter": {
    "hash": "916dbcbb3f70747c44a77c7bcd40155683ae19c65e1c03b4aa3499c5328201f1"
   }
  }
 },
 "nbformat": 4,
 "nbformat_minor": 2
}
